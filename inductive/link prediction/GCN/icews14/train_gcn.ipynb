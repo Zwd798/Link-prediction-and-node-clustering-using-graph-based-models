{
 "cells": [
  {
   "cell_type": "code",
   "execution_count": 1,
   "id": "3bc2f19b",
   "metadata": {},
   "outputs": [
    {
     "name": "stderr",
     "output_type": "stream",
     "text": [
      "/home/nxz190009/miniconda3/envs/htgnn/lib/python3.10/site-packages/torch_geometric/typing.py:86: UserWarning: An issue occurred while importing 'torch-scatter'. Disabling its usage. Stacktrace: /home/nxz190009/miniconda3/envs/htgnn/lib/python3.10/site-packages/torch_scatter/_version_cpu.so: undefined symbol: _ZN5torch3jit17parseSchemaOrNameERKSs\n",
      "  warnings.warn(f\"An issue occurred while importing 'torch-scatter'. \"\n",
      "/home/nxz190009/miniconda3/envs/htgnn/lib/python3.10/site-packages/torch_geometric/typing.py:113: UserWarning: An issue occurred while importing 'torch-spline-conv'. Disabling its usage. Stacktrace: /home/nxz190009/miniconda3/envs/htgnn/lib/python3.10/site-packages/torch_spline_conv/_version_cpu.so: undefined symbol: _ZN5torch3jit17parseSchemaOrNameERKSs\n",
      "  warnings.warn(\n",
      "/home/nxz190009/miniconda3/envs/htgnn/lib/python3.10/site-packages/torch_geometric/typing.py:124: UserWarning: An issue occurred while importing 'torch-sparse'. Disabling its usage. Stacktrace: /home/nxz190009/miniconda3/envs/htgnn/lib/python3.10/site-packages/torch_sparse/_version_cpu.so: undefined symbol: _ZN5torch3jit17parseSchemaOrNameERKSs\n",
      "  warnings.warn(f\"An issue occurred while importing 'torch-sparse'. \"\n",
      "/home/nxz190009/miniconda3/envs/htgnn/lib/python3.10/site-packages/tqdm/auto.py:21: TqdmWarning: IProgress not found. Please update jupyter and ipywidgets. See https://ipywidgets.readthedocs.io/en/stable/user_install.html\n",
      "  from .autonotebook import tqdm as notebook_tqdm\n"
     ]
    }
   ],
   "source": [
    "from sklearn.metrics import roc_auc_score, average_precision_score\n",
    "from torch_geometric.utils import negative_sampling\n",
    "import torch\n",
    "from torch_geometric.nn.conv import GCNConv\n",
    "from torch_geometric.data import Data\n",
    "import torch_geometric.transforms as T\n",
    "\n",
    "from sklearn.model_selection import train_test_split\n",
    "import pandas as pd\n",
    "import numpy as np\n",
    "\n",
    "from utils.reorganized_preprocessing import get_edges_and_indices\n",
    "\n",
    "\n",
    "dataset = 'icews14'"
   ]
  },
  {
   "cell_type": "code",
   "execution_count": 2,
   "id": "1ce4c36e",
   "metadata": {},
   "outputs": [],
   "source": [
    "class Net(torch.nn.Module):\n",
    "    def __init__(self, in_channels, hidden_channels, out_channels):\n",
    "        super().__init__()\n",
    "        self.conv1 = GCNConv(in_channels, hidden_channels)\n",
    "        self.conv2 = GCNConv(hidden_channels, out_channels)\n",
    "\n",
    "    def encode(self, x, edge_index):\n",
    "        x = self.conv1(x, edge_index).relu()\n",
    "        return self.conv2(x, edge_index)\n",
    "\n",
    "    def decode(self, z, edge_label_index):\n",
    "        return (z[edge_label_index[0]] * z[edge_label_index[1]]).sum(\n",
    "            dim=-1\n",
    "        )  # product of a pair of nodes on each edge\n",
    "\n",
    "    def decode_all(self, z):\n",
    "        prob_adj = z @ z.t()\n",
    "        return (prob_adj > 0).nonzero(as_tuple=False).t()\n",
    "    "
   ]
  },
  {
   "cell_type": "code",
   "execution_count": 15,
   "id": "032201bd",
   "metadata": {},
   "outputs": [],
   "source": [
    "@torch.no_grad()\n",
    "def eval_link_predictor(model, data):\n",
    "    model.eval()\n",
    "    edge_label_index = torch.cat(\n",
    "        [data.pos_edge_label_index, data.neg_edge_label_index],\n",
    "        dim=-1,\n",
    "    )\n",
    "    \n",
    "    edge_label = torch.cat([\n",
    "        data.pos_edge_label,\n",
    "        data.neg_edge_label\n",
    "    ], dim=0)\n",
    "    z = model.encode(data.x, data.edge_index)\n",
    "    out = model.decode(z, edge_label_index).view(-1).sigmoid()\n",
    "\n",
    "    return roc_auc_score(edge_label.cpu().numpy(), out.cpu().numpy()), average_precision_score(edge_label.cpu().numpy(), out.cpu().numpy())"
   ]
  },
  {
   "cell_type": "code",
   "execution_count": 4,
   "id": "bbe3ed06",
   "metadata": {},
   "outputs": [],
   "source": [
    "def train_link_predictor(\n",
    "    model, train_data, val_data, optimizer, criterion, n_epochs=50\n",
    "):\n",
    "    for epoch in range(1, n_epochs + 1):\n",
    "\n",
    "        model.train()\n",
    "        optimizer.zero_grad()\n",
    "        z = model.encode(train_data.x, train_data.edge_index)\n",
    "\n",
    "        # sampling training negatives for every training epoch\n",
    "        # neg_edge_index = negative_sampling(\n",
    "        #     edge_index=train_data.edge_index, num_nodes=train_data.num_nodes,\n",
    "        #     num_neg_samples=train_data.edge_label_index.size(1), method='sparse')\n",
    "    \n",
    "        edge_label_index = torch.cat(\n",
    "            [train_data.pos_edge_label_index, train_data.neg_edge_label_index],\n",
    "            dim=-1,\n",
    "        )\n",
    "        \n",
    "        edge_label = torch.cat([\n",
    "            train_data.pos_edge_label,\n",
    "            train_data.neg_edge_label\n",
    "        ], dim=0)\n",
    "\n",
    "        out = model.decode(z, edge_label_index).view(-1)\n",
    "        loss = criterion(out, edge_label)\n",
    "        loss.backward()\n",
    "        optimizer.step()\n",
    "\n",
    "        val_auc, val_ap = eval_link_predictor(model, val_data)\n",
    "\n",
    "        if epoch % 10 == 0:\n",
    "            print(f\"Epoch: {epoch:06d}, Train Loss: {loss:.6f}, Val AUC: {val_auc:.6f}, Val AP: {val_ap:.6f}\")\n",
    "\n",
    "    return model"
   ]
  },
  {
   "cell_type": "code",
   "execution_count": 5,
   "id": "5c320c85",
   "metadata": {},
   "outputs": [],
   "source": [
    "def create_edge_index_label(x, edge_index, data):\n",
    "    pos_edge_index = edge_index.clone()\n",
    "    num_pos = pos_edge_index.size(1)\n",
    "    pos_edge_label = torch.ones(num_pos, dtype=torch.float)\n",
    "\n",
    "    neg_edge_index = negative_sampling(\n",
    "        edge_index=edge_index,\n",
    "        num_nodes=x.size(0),\n",
    "        num_neg_samples=num_pos,\n",
    "        method='sparse'\n",
    "    )\n",
    "    neg_edge_label = torch.zeros(neg_edge_index.size(1), dtype=torch.float)\n",
    "\n",
    "    data.edge_label_index = torch.cat([pos_edge_index, neg_edge_index], dim=1)\n",
    "    data.edge_label = torch.cat([pos_edge_label, neg_edge_label], dim=0)\n",
    "\n",
    "\n",
    "def create_data(df, train_idx, val_idx, test_idx):\n",
    "    head1,head2 = df.columns[:2]\n",
    "    edge_index = torch.tensor(df.iloc[train_idx][[head1, head2]].values.T, dtype=torch.long)\n",
    "    x = torch.randn(edge_index.max().item()+1, 512)\n",
    "    train_data = Data(edge_index=edge_index, x=x)\n",
    "    create_edge_index_label(x, edge_index, train_data)\n",
    "\n",
    "    edge_index = torch.tensor(df.iloc[val_idx][[head1, head2]].values.T, dtype=torch.long)\n",
    "    val_data = Data(edge_index=edge_index, x=x)\n",
    "    create_edge_index_label(x, edge_index, val_data)\n",
    "\n",
    "    edge_index = torch.tensor(df.iloc[test_idx][[head1, head2]].values.T, dtype=torch.long)\n",
    "    test_data = Data(edge_index=edge_index,x=x)\n",
    "    create_edge_index_label(x, edge_index, test_data)\n",
    "\n",
    "    return train_data, val_data, test_data\n",
    "\n",
    "\n",
    "def create_x(train_data, val_data, test_data):\n",
    "    x = torch.randn(train_data.edge_index.max().item()+3, 512)\n",
    "    train_data.x = x\n",
    "    val_data.x = x\n",
    "    test_data.x = x\n",
    "\n",
    "    return train_data, val_data, test_data\n",
    "    "
   ]
  },
  {
   "cell_type": "code",
   "execution_count": 6,
   "id": "6d8afc56",
   "metadata": {},
   "outputs": [
    {
     "name": "stderr",
     "output_type": "stream",
     "text": [
      "/home/nxz190009/miniconda3/envs/htgnn/lib/python3.10/site-packages/torch_geometric/data/storage.py:452: UserWarning: Unable to accurately infer 'num_nodes' from the attribute set '{'edge_index'}'. Please explicitly set 'num_nodes' as an attribute of 'data' to suppress this warning\n",
      "  warnings.warn(\n"
     ]
    }
   ],
   "source": [
    "user_artist = pd.read_csv(f'../../../../data/raw/{dataset}/1-indexed/actor_actor.csv', encoding='utf-8', names=['userID','artistID', 'weight'],)\n",
    "user_friend = pd.read_csv(f'../../../../data/raw/{dataset}/1-indexed/actor_action.csv', encoding='utf-8', names=['userID', 'friendID'])\n",
    "artist_tag = pd.read_csv(f'../../../../data/raw/{dataset}/1-indexed/actor_sector.csv', encoding='utf-8', names=['artistID', 'tagID'])\n",
    "\n",
    "num_user = user_artist['userID'].max()\n",
    "num_artist = user_artist['artistID'].max()\n",
    "num_tag = artist_tag['tagID'].max()\n",
    "\n",
    "# indices = np.arange(len(user_artist))\n",
    "# train_idx, test_idx = train_test_split(indices, test_size=0.15, random_state=42)\n",
    "# val_idx, test_idx = train_test_split(test_idx, test_size=0.5, random_state=42)\n",
    "\n",
    "# train_data, val_data, test_data = create_data(user_artist, train_idx, val_idx, test_idx)\n",
    "\n",
    "\n",
    "train_data, val_data, test_data, train_idx, val_idx, test_idx = get_edges_and_indices(user_artist, remove_fraction=1.0)\n",
    "train_data, val_data, test_data = create_x(train_data, val_data, test_data)\n"
   ]
  },
  {
   "cell_type": "code",
   "execution_count": 7,
   "id": "668bdb3b",
   "metadata": {},
   "outputs": [
    {
     "data": {
      "text/plain": [
       "Data(edge_index=[2, 51024], pos_edge_label=[16184], pos_edge_label_index=[2, 16184], neg_edge_label=[25512], neg_edge_label_index=[2, 25512], x=[7078, 512])"
      ]
     },
     "execution_count": 7,
     "metadata": {},
     "output_type": "execute_result"
    }
   ],
   "source": [
    "train_data"
   ]
  },
  {
   "cell_type": "code",
   "execution_count": 12,
   "id": "3a338ab9",
   "metadata": {},
   "outputs": [
    {
     "data": {
      "text/plain": [
       "Data(edge_index=[2, 51024], pos_edge_label=[3189], pos_edge_label_index=[2, 3189], neg_edge_label=[3189], neg_edge_label_index=[2, 3189], x=[7078, 512])"
      ]
     },
     "execution_count": 12,
     "metadata": {},
     "output_type": "execute_result"
    }
   ],
   "source": [
    "val_data"
   ]
  },
  {
   "cell_type": "code",
   "execution_count": 9,
   "id": "3ed49cfa",
   "metadata": {},
   "outputs": [],
   "source": [
    "edge_label_index = torch.cat(\n",
    "            [train_data.pos_edge_label_index, train_data.neg_edge_label_index],\n",
    "            dim=-1,\n",
    "        )"
   ]
  },
  {
   "cell_type": "code",
   "execution_count": 10,
   "id": "dadb65a4",
   "metadata": {},
   "outputs": [],
   "source": [
    "edge_label = torch.cat([\n",
    "            train_data.pos_edge_label,\n",
    "            train_data.neg_edge_label\n",
    "        ], dim=0)"
   ]
  },
  {
   "cell_type": "code",
   "execution_count": 12,
   "id": "fb2e2f5a",
   "metadata": {},
   "outputs": [],
   "source": [
    "####   If you want to split train edges from val and test edges\n",
    "\n",
    "\n",
    "# head1,head2 = user_artist.columns[:2]\n",
    "# edge_index = torch.tensor(user_artist.iloc[train_idx][[head1, head2]].values.T, dtype=torch.long)\n",
    "\n",
    "# edge_index\n",
    "\n",
    "# x = torch.randn(edge_index.max().item(), 512)\n",
    "# graph = Data(edge_index=edge_index, x=x)\n",
    "# split = T.RandomLinkSplit(\n",
    "#     num_val=0.05,\n",
    "#     num_test=0.1,\n",
    "#     is_undirected=True,\n",
    "#     add_negative_train_samples=False,\n",
    "#     neg_sampling_ratio=1.0,\n",
    "# )\n",
    "\n",
    "# train_data, val_data, test_data = split(graph)"
   ]
  },
  {
   "cell_type": "code",
   "execution_count": 16,
   "id": "e86b68bb",
   "metadata": {},
   "outputs": [
    {
     "name": "stdout",
     "output_type": "stream",
     "text": [
      "Epoch: 000010, Train Loss: 0.736446, Val AUC: 0.657779, Val AP: 0.618671\n",
      "Epoch: 000020, Train Loss: 0.573247, Val AUC: 0.734911, Val AP: 0.707837\n",
      "Epoch: 000030, Train Loss: 0.403932, Val AUC: 0.797983, Val AP: 0.805176\n",
      "Epoch: 000040, Train Loss: 0.280593, Val AUC: 0.807113, Val AP: 0.822304\n",
      "Epoch: 000050, Train Loss: 0.203862, Val AUC: 0.810769, Val AP: 0.822999\n"
     ]
    }
   ],
   "source": [
    "model = Net(512, 256, 128).to('cuda')\n",
    "optimizer = torch.optim.Adam(params=model.parameters(), lr=0.01)\n",
    "criterion = torch.nn.BCEWithLogitsLoss()\n",
    "\n",
    "model = train_link_predictor(model, train_data.to('cuda'), val_data.to('cuda'), optimizer, criterion)"
   ]
  },
  {
   "cell_type": "code",
   "execution_count": 17,
   "id": "ba439da9",
   "metadata": {},
   "outputs": [
    {
     "name": "stdout",
     "output_type": "stream",
     "text": [
      "Test: AUC : 0.831602, AP : 0.841418\n"
     ]
    }
   ],
   "source": [
    "test_auc, test_ap = eval_link_predictor(model, test_data.to('cuda'))\n",
    "\n",
    "print(f\"Test: AUC : {test_auc:.6f}, AP : {test_ap:.6f}\")"
   ]
  },
  {
   "cell_type": "code",
   "execution_count": null,
   "id": "b9e29820",
   "metadata": {},
   "outputs": [],
   "source": []
  }
 ],
 "metadata": {
  "kernelspec": {
   "display_name": "htgnn",
   "language": "python",
   "name": "python3"
  },
  "language_info": {
   "codemirror_mode": {
    "name": "ipython",
    "version": 3
   },
   "file_extension": ".py",
   "mimetype": "text/x-python",
   "name": "python",
   "nbconvert_exporter": "python",
   "pygments_lexer": "ipython3",
   "version": "3.10.17"
  }
 },
 "nbformat": 4,
 "nbformat_minor": 5
}
