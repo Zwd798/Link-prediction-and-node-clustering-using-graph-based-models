{
 "cells": [
  {
   "cell_type": "code",
   "execution_count": 4,
   "id": "b8288dd6",
   "metadata": {},
   "outputs": [],
   "source": [
    "import torch\n",
    "import torch.nn.functional as F\n",
    "from torch import nn\n",
    "from torch_geometric.nn import SAGEConv\n",
    "from torch_geometric.datasets import Planetoid\n",
    "from torch_geometric.utils import negative_sampling\n",
    "from sklearn.metrics import roc_auc_score, average_precision_score\n",
    "from torch_geometric.transforms import RandomLinkSplit\n",
    "from torch_geometric.data import Data\n",
    "from utils.reorganized_preprocessing import get_edges_and_indices\n",
    "import pandas as pd\n",
    "dataset = 'icews18'\n",
    "\n",
    "device = torch.device('cuda' if torch.cuda.is_available() else 'cpu')\n"
   ]
  },
  {
   "cell_type": "code",
   "execution_count": 5,
   "id": "1a9a80d2",
   "metadata": {},
   "outputs": [],
   "source": [
    "def create_x(train_data, val_data, test_data):\n",
    "    num_node_features = 512\n",
    "    x = torch.randn(train_data.edge_index.max().item()+3, num_node_features)\n",
    "    train_data.x = x\n",
    "    train_data.num_node_features = num_node_features\n",
    "    val_data.x = x\n",
    "    val_data.num_node_features = num_node_features\n",
    "    test_data.x = x\n",
    "    test_data.num_node_features = num_node_features\n",
    "\n",
    "    return train_data, val_data, test_data\n",
    "    "
   ]
  },
  {
   "cell_type": "code",
   "execution_count": 6,
   "id": "ab57093f",
   "metadata": {},
   "outputs": [],
   "source": [
    "user_artist = pd.read_csv(f'../../../../data/raw/{dataset}/1-indexed/actor_actor.csv', encoding='utf-8', names=['userID','artistID', 'weight'],)\n",
    "user_friend = pd.read_csv(f'../../../../data/raw/{dataset}/1-indexed/actor_action.csv', encoding='utf-8', names=['userID', 'friendID'])\n",
    "artist_tag = pd.read_csv(f'../../../../data/raw/{dataset}/1-indexed/actor_sector.csv', encoding='utf-8', names=['artistID', 'tagID'])\n",
    "\n",
    "num_user = user_artist['userID'].max()\n",
    "num_artist = user_artist['artistID'].max()\n",
    "num_tag = artist_tag['tagID'].max()"
   ]
  },
  {
   "cell_type": "code",
   "execution_count": 7,
   "id": "e45579ea",
   "metadata": {},
   "outputs": [
    {
     "name": "stderr",
     "output_type": "stream",
     "text": [
      "/home/nxz190009/miniconda3/envs/htgnn/lib/python3.10/site-packages/torch_geometric/data/storage.py:452: UserWarning: Unable to accurately infer 'num_nodes' from the attribute set '{'edge_index'}'. Please explicitly set 'num_nodes' as an attribute of 'data' to suppress this warning\n",
      "  warnings.warn(\n"
     ]
    }
   ],
   "source": [
    "train_data, val_data, test_data, train_idx, val_idx, test_idx = get_edges_and_indices(user_artist, remove_fraction=1.0)\n",
    "train_data, val_data, test_data = create_x(train_data, val_data, test_data)"
   ]
  },
  {
   "cell_type": "code",
   "execution_count": 8,
   "id": "8cbe3587",
   "metadata": {},
   "outputs": [
    {
     "data": {
      "text/plain": [
       "Data(edge_index=[2, 57814], pos_edge_label=[16224], pos_edge_label_index=[2, 16224], neg_edge_label=[28907], neg_edge_label_index=[2, 28907], x=[6225, 512], num_node_features=512)"
      ]
     },
     "execution_count": 8,
     "metadata": {},
     "output_type": "execute_result"
    }
   ],
   "source": [
    "train_data"
   ]
  },
  {
   "cell_type": "code",
   "execution_count": 9,
   "id": "3352daba",
   "metadata": {},
   "outputs": [],
   "source": [
    "class GraphSAGEEncoder(nn.Module):\n",
    "    def __init__(self, in_channels, hidden_channels):\n",
    "        super().__init__()\n",
    "        self.conv1 = SAGEConv(in_channels, hidden_channels)\n",
    "        self.conv2 = SAGEConv(hidden_channels, hidden_channels)\n",
    "\n",
    "    def forward(self, x, edge_index):\n",
    "        x = self.conv1(x, edge_index).relu()\n",
    "        x = self.conv2(x, edge_index)\n",
    "        return x\n",
    "\n",
    "\n",
    "class LinkPredictor(nn.Module):\n",
    "    def __init__(self, hidden_channels, dropout=0.5):\n",
    "        super().__init__()\n",
    "        self.mlp = nn.Sequential(\n",
    "            nn.Linear(hidden_channels, hidden_channels),\n",
    "            nn.ReLU(),\n",
    "            nn.Dropout(dropout),\n",
    "            nn.Linear(hidden_channels, 1)\n",
    "        )\n",
    "\n",
    "    def forward(self, x_i, x_j):\n",
    "        return torch.sigmoid(self.mlp(x_i * x_j)).view(-1)"
   ]
  },
  {
   "cell_type": "code",
   "execution_count": 10,
   "id": "00bfcb39",
   "metadata": {},
   "outputs": [],
   "source": [
    "@torch.no_grad()\n",
    "def test(model, predictor, data):\n",
    "    model.eval()\n",
    "    predictor.eval()\n",
    "\n",
    "    z = model(data.x, data.edge_index)\n",
    "\n",
    "    pos_edge = data.pos_edge_label_index\n",
    "    neg_edge = data.neg_edge_label_index\n",
    "\n",
    "    edge = torch.cat([pos_edge, neg_edge], dim=1)\n",
    "    x_i, x_j = z[edge[0]], z[edge[1]]\n",
    "    labels = torch.cat([\n",
    "        torch.ones(pos_edge.size(1)),\n",
    "        torch.zeros(neg_edge.size(1))\n",
    "    ]).to(device)\n",
    "\n",
    "    pred = predictor(x_i, x_j).detach().cpu()\n",
    "    labels = labels.detach().cpu()\n",
    "\n",
    "    auc = roc_auc_score(labels, pred)\n",
    "    ap = average_precision_score(labels, pred)\n",
    "    return auc, ap\n",
    "\n",
    "\n",
    "def train(model, predictor, train_data, optimizer):\n",
    "    model.train()\n",
    "    predictor.train()\n",
    "\n",
    "    z = model(train_data.x, train_data.edge_index)\n",
    "\n",
    "    pos_edge = train_data.pos_edge_label_index\n",
    "    neg_edge = negative_sampling(\n",
    "        edge_index=train_data.edge_index,\n",
    "        num_nodes=train_data.num_nodes,\n",
    "        num_neg_samples=pos_edge.size(1)\n",
    "    )\n",
    "\n",
    "    edge = torch.cat([pos_edge, neg_edge], dim=1)\n",
    "    x_i, x_j = z[edge[0]], z[edge[1]]\n",
    "    labels = torch.cat([\n",
    "        torch.ones(pos_edge.size(1)),\n",
    "        torch.zeros(neg_edge.size(1))\n",
    "    ]).to(device)\n",
    "\n",
    "    pred = predictor(x_i, x_j)\n",
    "    loss = F.binary_cross_entropy(pred, labels)\n",
    "    loss.backward()\n",
    "    optimizer.step()\n",
    "    optimizer.zero_grad()\n",
    "    return loss.item()\n",
    "\n",
    "\n"
   ]
  },
  {
   "cell_type": "code",
   "execution_count": 11,
   "id": "35359073",
   "metadata": {},
   "outputs": [],
   "source": [
    "model = GraphSAGEEncoder(train_data.num_node_features, 64).to(device)\n",
    "predictor = LinkPredictor(64).to(device)\n",
    "optimizer = torch.optim.Adam(\n",
    "    list(model.parameters()) + list(predictor.parameters()),\n",
    "    lr=0.01\n",
    ")\n"
   ]
  },
  {
   "cell_type": "code",
   "execution_count": 12,
   "id": "b3d836ba",
   "metadata": {},
   "outputs": [
    {
     "name": "stdout",
     "output_type": "stream",
     "text": [
      "Epoch: 010, Loss: 0.4376, Val AUC: 0.9109, AP: 0.9229\n",
      "Epoch: 020, Loss: 0.2100, Val AUC: 0.9270, AP: 0.9424\n",
      "Epoch: 030, Loss: 0.1095, Val AUC: 0.9343, AP: 0.9496\n",
      "Epoch: 040, Loss: 0.0658, Val AUC: 0.9379, AP: 0.9525\n",
      "Epoch: 050, Loss: 0.0516, Val AUC: 0.9403, AP: 0.9548\n",
      "Test AUC: 0.9437, Test AP: 0.9578\n"
     ]
    }
   ],
   "source": [
    "for epoch in range(1, 51):\n",
    "    loss = train(model, predictor, train_data.to(device), optimizer)\n",
    "    if epoch % 10 == 0:\n",
    "        val_auc, val_ap = test(model, predictor, val_data.to(device))\n",
    "        print(f'Epoch: {epoch:03d}, Loss: {loss:.4f}, Val AUC: {val_auc:.4f}, AP: {val_ap:.4f}')\n",
    "\n",
    "# Final test evaluation\n",
    "test_auc, test_ap = test(model, predictor, test_data.to(device))\n",
    "print(f'Test AUC: {test_auc:.4f}, Test AP: {test_ap:.4f}')"
   ]
  }
 ],
 "metadata": {
  "kernelspec": {
   "display_name": "htgnn",
   "language": "python",
   "name": "python3"
  },
  "language_info": {
   "codemirror_mode": {
    "name": "ipython",
    "version": 3
   },
   "file_extension": ".py",
   "mimetype": "text/x-python",
   "name": "python",
   "nbconvert_exporter": "python",
   "pygments_lexer": "ipython3",
   "version": "3.10.17"
  }
 },
 "nbformat": 4,
 "nbformat_minor": 5
}
