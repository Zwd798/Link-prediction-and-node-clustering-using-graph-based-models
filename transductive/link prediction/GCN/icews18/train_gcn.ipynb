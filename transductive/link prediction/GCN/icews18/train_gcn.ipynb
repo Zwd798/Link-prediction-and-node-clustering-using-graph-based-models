{
 "cells": [
  {
   "cell_type": "code",
   "execution_count": 40,
   "id": "3bc2f19b",
   "metadata": {},
   "outputs": [],
   "source": [
    "from sklearn.metrics import roc_auc_score, average_precision_score\n",
    "from torch_geometric.utils import negative_sampling\n",
    "import torch\n",
    "from torch_geometric.nn.conv import GCNConv\n",
    "from torch_geometric.data import Data\n",
    "import torch_geometric.transforms as T\n",
    "\n",
    "from sklearn.model_selection import train_test_split\n",
    "import pandas as pd\n",
    "import numpy as np\n",
    "\n",
    "dataset = \"icews18\""
   ]
  },
  {
   "cell_type": "code",
   "execution_count": 41,
   "id": "1ce4c36e",
   "metadata": {},
   "outputs": [],
   "source": [
    "class Net(torch.nn.Module):\n",
    "    def __init__(self, in_channels, hidden_channels, out_channels):\n",
    "        super().__init__()\n",
    "        self.conv1 = GCNConv(in_channels, hidden_channels)\n",
    "        self.conv2 = GCNConv(hidden_channels, out_channels)\n",
    "\n",
    "    def encode(self, x, edge_index):\n",
    "        x = self.conv1(x, edge_index).relu()\n",
    "        return self.conv2(x, edge_index)\n",
    "\n",
    "    def decode(self, z, edge_label_index):\n",
    "        return (z[edge_label_index[0]] * z[edge_label_index[1]]).sum(\n",
    "            dim=-1\n",
    "        )  # product of a pair of nodes on each edge\n",
    "\n",
    "    def decode_all(self, z):\n",
    "        prob_adj = z @ z.t()\n",
    "        return (prob_adj > 0).nonzero(as_tuple=False).t()\n",
    "    "
   ]
  },
  {
   "cell_type": "code",
   "execution_count": 42,
   "id": "032201bd",
   "metadata": {},
   "outputs": [],
   "source": [
    "@torch.no_grad()\n",
    "def eval_link_predictor(model, data):\n",
    "\n",
    "    model.eval()\n",
    "    z = model.encode(data.x, data.edge_index)\n",
    "    out = model.decode(z, data.edge_label_index).view(-1).sigmoid()\n",
    "\n",
    "    return roc_auc_score(data.edge_label.cpu().numpy(), out.cpu().numpy()), average_precision_score(data.edge_label.cpu().numpy(), out.cpu().numpy())"
   ]
  },
  {
   "cell_type": "code",
   "execution_count": 43,
   "id": "bbe3ed06",
   "metadata": {},
   "outputs": [],
   "source": [
    "def train_link_predictor(\n",
    "    model, train_data, val_data, optimizer, criterion, n_epochs=50\n",
    "):\n",
    "    for epoch in range(1, n_epochs + 1):\n",
    "\n",
    "        model.train()\n",
    "        optimizer.zero_grad()\n",
    "        z = model.encode(train_data.x, train_data.edge_index)\n",
    "\n",
    "        # sampling training negatives for every training epoch\n",
    "        neg_edge_index = negative_sampling(\n",
    "            edge_index=train_data.edge_index, num_nodes=train_data.num_nodes,\n",
    "            num_neg_samples=train_data.edge_label_index.size(1), method='sparse')\n",
    "\n",
    "        edge_label_index = torch.cat(\n",
    "            [train_data.edge_label_index, neg_edge_index],\n",
    "            dim=-1,\n",
    "        )\n",
    "        edge_label = torch.cat([\n",
    "            train_data.edge_label,\n",
    "            train_data.edge_label.new_zeros(neg_edge_index.size(1))\n",
    "        ], dim=0)\n",
    "\n",
    "        out = model.decode(z, edge_label_index).view(-1)\n",
    "        loss = criterion(out, edge_label)\n",
    "        loss.backward()\n",
    "        optimizer.step()\n",
    "\n",
    "        val_auc, val_ap = eval_link_predictor(model, val_data)\n",
    "\n",
    "        if epoch % 10 == 0:\n",
    "            print(f\"Epoch: {epoch:06d}, Train Loss: {loss:.6f}, Val AUC: {val_auc:.6f}, Val AP: {val_ap:.6f}\")\n",
    "\n",
    "    \n",
    "\n",
    "    return model"
   ]
  },
  {
   "cell_type": "code",
   "execution_count": 44,
   "id": "5c320c85",
   "metadata": {},
   "outputs": [],
   "source": [
    "def create_edge_index_label(x, edge_index, data):\n",
    "    pos_edge_index = edge_index.clone()\n",
    "    num_pos = pos_edge_index.size(1)\n",
    "    pos_edge_label = torch.ones(num_pos, dtype=torch.float)\n",
    "\n",
    "    neg_edge_index = negative_sampling(\n",
    "        edge_index=edge_index,\n",
    "        num_nodes=x.size(0),\n",
    "        num_neg_samples=num_pos,\n",
    "        method='sparse'\n",
    "    )\n",
    "    neg_edge_label = torch.zeros(neg_edge_index.size(1), dtype=torch.float)\n",
    "\n",
    "    data.edge_label_index = torch.cat([pos_edge_index, neg_edge_index], dim=1)\n",
    "    data.edge_label = torch.cat([pos_edge_label, neg_edge_label], dim=0)\n",
    "\n",
    "\n",
    "def create_data(df, train_idx, val_idx, test_idx):\n",
    "    head1,head2 = df.columns[:2]\n",
    "    edge_index = torch.tensor(df.iloc[train_idx][[head1, head2]].values.T, dtype=torch.long)\n",
    "    x = torch.randn(edge_index.max().item()+1, 512)\n",
    "    train_data = Data(edge_index=edge_index, x=x)\n",
    "    create_edge_index_label(x, edge_index, train_data)\n",
    "\n",
    "    edge_index = torch.tensor(df.iloc[val_idx][[head1, head2]].values.T, dtype=torch.long)\n",
    "    val_data = Data(edge_index=edge_index, x=x)\n",
    "    create_edge_index_label(x, edge_index, val_data)\n",
    "\n",
    "    edge_index = torch.tensor(df.iloc[test_idx][[head1, head2]].values.T, dtype=torch.long)\n",
    "    test_data = Data(edge_index=edge_index,x=x)\n",
    "    create_edge_index_label(x, edge_index, test_data)\n",
    "\n",
    "    return train_data, val_data, test_data\n",
    "    "
   ]
  },
  {
   "cell_type": "code",
   "execution_count": 45,
   "id": "6d8afc56",
   "metadata": {},
   "outputs": [],
   "source": [
    "user_artist = pd.read_csv(f'../../magnn/{dataset}/data/raw/{dataset}/1-indexed/actor_actor.csv', encoding='utf-8', names=['userID','artistID', 'weight'],)\n",
    "user_friend = pd.read_csv(f'../../magnn/{dataset}/data/raw/{dataset}/1-indexed/actor_action.csv', encoding='utf-8', names=['userID', 'friendID'])\n",
    "artist_tag = pd.read_csv(f'../../magnn/{dataset}/data/raw/{dataset}/1-indexed/actor_sector.csv', encoding='utf-8', names=['artistID', 'tagID'])\n",
    "\n",
    "num_user = user_artist['userID'].max()\n",
    "num_artist = user_artist['artistID'].max()\n",
    "num_tag = artist_tag['tagID'].max()\n",
    "\n",
    "indices = np.arange(len(user_artist))\n",
    "train_idx, test_idx = train_test_split(indices, test_size=0.15, random_state=42)\n",
    "val_idx, test_idx = train_test_split(test_idx, test_size=0.5, random_state=42)\n",
    "\n",
    "train_data, val_data, test_data = create_data(user_artist, train_idx, val_idx, test_idx)\n"
   ]
  },
  {
   "cell_type": "code",
   "execution_count": 46,
   "id": "fb2e2f5a",
   "metadata": {},
   "outputs": [],
   "source": [
    "####   If you want to split train edges from val and test edges\n",
    "\n",
    "\n",
    "# head1,head2 = user_artist.columns[:2]\n",
    "# edge_index = torch.tensor(user_artist.iloc[train_idx][[head1, head2]].values.T, dtype=torch.long)\n",
    "\n",
    "# edge_index\n",
    "\n",
    "# x = torch.randn(edge_index.max().item(), 512)\n",
    "# graph = Data(edge_index=edge_index, x=x)\n",
    "# split = T.RandomLinkSplit(\n",
    "#     num_val=0.05,\n",
    "#     num_test=0.1,\n",
    "#     is_undirected=True,\n",
    "#     add_negative_train_samples=False,\n",
    "#     neg_sampling_ratio=1.0,\n",
    "# )\n",
    "\n",
    "# train_data, val_data, test_data = split(graph)"
   ]
  },
  {
   "cell_type": "code",
   "execution_count": 47,
   "id": "e86b68bb",
   "metadata": {},
   "outputs": [
    {
     "name": "stdout",
     "output_type": "stream",
     "text": [
      "Epoch: 000010, Train Loss: 1.444249, Val AUC: 0.664702, Val AP: 0.646749\n",
      "Epoch: 000020, Train Loss: 0.851542, Val AUC: 0.808316, Val AP: 0.796695\n",
      "Epoch: 000030, Train Loss: 0.690397, Val AUC: 0.850479, Val AP: 0.846448\n",
      "Epoch: 000040, Train Loss: 0.637123, Val AUC: 0.857294, Val AP: 0.858649\n",
      "Epoch: 000050, Train Loss: 0.611542, Val AUC: 0.860772, Val AP: 0.864943\n"
     ]
    }
   ],
   "source": [
    "model = Net(512, 256, 128).to('cuda')\n",
    "optimizer = torch.optim.Adam(params=model.parameters(), lr=0.01)\n",
    "criterion = torch.nn.BCEWithLogitsLoss()\n",
    "\n",
    "model = train_link_predictor(model, train_data.to('cuda'), val_data.to('cuda'), optimizer, criterion)"
   ]
  },
  {
   "cell_type": "code",
   "execution_count": 48,
   "id": "ba439da9",
   "metadata": {},
   "outputs": [
    {
     "name": "stdout",
     "output_type": "stream",
     "text": [
      "Test: AUC : 0.864634, AP : 0.869105\n"
     ]
    }
   ],
   "source": [
    "test_auc, test_ap = eval_link_predictor(model, test_data.to('cuda'))\n",
    "\n",
    "print(f\"Test: AUC : {test_auc:.6f}, AP : {test_ap:.6f}\")"
   ]
  },
  {
   "cell_type": "code",
   "execution_count": null,
   "id": "b9e29820",
   "metadata": {},
   "outputs": [],
   "source": []
  }
 ],
 "metadata": {
  "kernelspec": {
   "display_name": "htgnn",
   "language": "python",
   "name": "python3"
  },
  "language_info": {
   "codemirror_mode": {
    "name": "ipython",
    "version": 3
   },
   "file_extension": ".py",
   "mimetype": "text/x-python",
   "name": "python",
   "nbconvert_exporter": "python",
   "pygments_lexer": "ipython3",
   "version": "3.10.17"
  }
 },
 "nbformat": 4,
 "nbformat_minor": 5
}
