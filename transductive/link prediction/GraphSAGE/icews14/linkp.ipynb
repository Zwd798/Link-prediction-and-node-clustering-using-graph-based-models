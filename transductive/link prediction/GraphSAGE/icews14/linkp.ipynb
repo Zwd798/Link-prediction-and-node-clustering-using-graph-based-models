{
 "cells": [
  {
   "cell_type": "code",
   "execution_count": 9,
   "id": "b8288dd6",
   "metadata": {},
   "outputs": [],
   "source": [
    "import torch\n",
    "import torch.nn.functional as F\n",
    "from torch import nn\n",
    "from torch_geometric.nn import SAGEConv\n",
    "from torch_geometric.datasets import Planetoid\n",
    "from torch_geometric.utils import negative_sampling\n",
    "from sklearn.metrics import roc_auc_score, average_precision_score\n",
    "from torch_geometric.transforms import RandomLinkSplit\n",
    "from torch_geometric.data import Data\n",
    "from utils.reorganized_preprocessing import get_edges_and_indices\n",
    "import pandas as pd\n",
    "import numpy as np\n",
    "from sklearn.model_selection import train_test_split\n",
    "\n",
    "dataset = 'icews14'\n",
    "\n",
    "device = torch.device('cuda' if torch.cuda.is_available() else 'cpu')\n"
   ]
  },
  {
   "cell_type": "code",
   "execution_count": 10,
   "id": "1a9a80d2",
   "metadata": {},
   "outputs": [],
   "source": [
    "def create_edge_index_label(x, edge_index, data):\n",
    "    pos_edge_index = edge_index.clone()\n",
    "    num_pos = pos_edge_index.size(1)\n",
    "    pos_edge_label = torch.ones(num_pos, dtype=torch.float)\n",
    "\n",
    "    neg_edge_index = negative_sampling(\n",
    "        edge_index=edge_index,\n",
    "        num_nodes=x.size(0),\n",
    "        num_neg_samples=num_pos,\n",
    "        method='sparse'\n",
    "    )\n",
    "    neg_edge_label = torch.zeros(neg_edge_index.size(1), dtype=torch.float)\n",
    "\n",
    "    \n",
    "    data.pos_edge_label_index = pos_edge_index\n",
    "    data.neg_edge_label_index = neg_edge_index\n",
    "    \n",
    "    data.edge_label_index = torch.cat([pos_edge_index, neg_edge_index], dim=1)\n",
    "    data.edge_label = torch.cat([pos_edge_label, neg_edge_label], dim=0)\n",
    "\n",
    "def create_data(df, train_idx, val_idx, test_idx):\n",
    "    head1,head2 = df.columns[:2]\n",
    "    edge_index = torch.tensor(df.iloc[train_idx][[head1, head2]].values.T, dtype=torch.long)\n",
    "    x = torch.randn(edge_index.max().item()+1, 512)\n",
    "    train_data = Data(edge_index=edge_index, x=x)\n",
    "    create_edge_index_label(x, edge_index, train_data)\n",
    "\n",
    "    edge_index = torch.tensor(df.iloc[val_idx][[head1, head2]].values.T, dtype=torch.long)\n",
    "    val_data = Data(edge_index=edge_index, x=x)\n",
    "    create_edge_index_label(x, edge_index, val_data)\n",
    "\n",
    "    edge_index = torch.tensor(df.iloc[test_idx][[head1, head2]].values.T, dtype=torch.long)\n",
    "    test_data = Data(edge_index=edge_index,x=x)\n",
    "    create_edge_index_label(x, edge_index, test_data)\n",
    "\n",
    "    return train_data, val_data, test_data\n",
    "\n",
    "def create_x(train_data, val_data, test_data):\n",
    "    num_node_features = 512\n",
    "    x = torch.randn(train_data.edge_index.max().item()+3, num_node_features)\n",
    "    train_data.x = x\n",
    "    train_data.num_node_features = num_node_features\n",
    "    val_data.x = x\n",
    "    val_data.num_node_features = num_node_features\n",
    "    test_data.x = x\n",
    "    test_data.num_node_features = num_node_features\n",
    "\n",
    "    return train_data, val_data, test_data\n",
    "    "
   ]
  },
  {
   "cell_type": "code",
   "execution_count": 11,
   "id": "ab57093f",
   "metadata": {},
   "outputs": [],
   "source": [
    "user_artist = pd.read_csv(f'../../../../data/raw/{dataset}/1-indexed/actor_actor.csv', encoding='utf-8', names=['userID','artistID', 'weight'],)\n",
    "user_friend = pd.read_csv(f'../../../../data/raw/{dataset}/1-indexed/actor_action.csv', encoding='utf-8', names=['userID', 'friendID'])\n",
    "artist_tag = pd.read_csv(f'../../../../data/raw/{dataset}/1-indexed/actor_sector.csv', encoding='utf-8', names=['artistID', 'tagID'])\n",
    "\n",
    "indices = np.arange(len(user_artist))\n",
    "train_idx, test_idx = train_test_split(indices, test_size=0.15, random_state=42)\n",
    "val_idx, test_idx = train_test_split(test_idx, test_size=0.5, random_state=42)\n",
    "\n",
    "train_data, val_data, test_data = create_data(user_artist, train_idx, val_idx, test_idx)\n",
    "num_user = user_artist['userID'].max()\n",
    "num_artist = user_artist['artistID'].max()\n",
    "num_tag = artist_tag['tagID'].max()"
   ]
  },
  {
   "cell_type": "code",
   "execution_count": 12,
   "id": "8cbe3587",
   "metadata": {},
   "outputs": [
    {
     "data": {
      "text/plain": [
       "Data(x=[7077, 512], edge_index=[2, 58462], pos_edge_label_index=[2, 58462], neg_edge_label_index=[2, 58462], edge_label_index=[2, 116924], edge_label=[116924])"
      ]
     },
     "execution_count": 12,
     "metadata": {},
     "output_type": "execute_result"
    }
   ],
   "source": [
    "train_data"
   ]
  },
  {
   "cell_type": "code",
   "execution_count": 13,
   "id": "dcc3f7dc",
   "metadata": {},
   "outputs": [
    {
     "data": {
      "text/plain": [
       "Data(x=[7077, 512], edge_index=[2, 5158], pos_edge_label_index=[2, 5158], neg_edge_label_index=[2, 5158], edge_label_index=[2, 10316], edge_label=[10316])"
      ]
     },
     "execution_count": 13,
     "metadata": {},
     "output_type": "execute_result"
    }
   ],
   "source": [
    "val_data"
   ]
  },
  {
   "cell_type": "code",
   "execution_count": 14,
   "id": "3352daba",
   "metadata": {},
   "outputs": [],
   "source": [
    "class GraphSAGEEncoder(nn.Module):\n",
    "    def __init__(self, in_channels, hidden_channels):\n",
    "        super().__init__()\n",
    "        self.conv1 = SAGEConv(in_channels, hidden_channels)\n",
    "        self.conv2 = SAGEConv(hidden_channels, hidden_channels)\n",
    "\n",
    "    def forward(self, x, edge_index):\n",
    "        x = self.conv1(x, edge_index).relu()\n",
    "        x = self.conv2(x, edge_index)\n",
    "        return x\n",
    "\n",
    "\n",
    "class LinkPredictor(nn.Module):\n",
    "    def __init__(self, hidden_channels, dropout=0.5):\n",
    "        super().__init__()\n",
    "        self.mlp = nn.Sequential(\n",
    "            nn.Linear(hidden_channels, hidden_channels),\n",
    "            nn.ReLU(),\n",
    "            nn.Dropout(dropout),\n",
    "            nn.Linear(hidden_channels, 1)\n",
    "        )\n",
    "\n",
    "    def forward(self, x_i, x_j):\n",
    "        return torch.sigmoid(self.mlp(x_i * x_j)).view(-1)"
   ]
  },
  {
   "cell_type": "code",
   "execution_count": 15,
   "id": "00bfcb39",
   "metadata": {},
   "outputs": [],
   "source": [
    "@torch.no_grad()\n",
    "def test(model, predictor, data):\n",
    "    model.eval()\n",
    "    predictor.eval()\n",
    "\n",
    "    z = model(data.x, data.edge_index)\n",
    "\n",
    "    pos_edge = data.pos_edge_label_index\n",
    "    neg_edge = data.neg_edge_label_index\n",
    "\n",
    "    edge = torch.cat([pos_edge, neg_edge], dim=1)\n",
    "    x_i, x_j = z[edge[0]], z[edge[1]]\n",
    "    labels = torch.cat([\n",
    "        torch.ones(pos_edge.size(1)),\n",
    "        torch.zeros(neg_edge.size(1))\n",
    "    ]).to(device)\n",
    "\n",
    "    pred = predictor(x_i, x_j).detach().cpu()\n",
    "    labels = labels.detach().cpu()\n",
    "\n",
    "    auc = roc_auc_score(labels, pred)\n",
    "    ap = average_precision_score(labels, pred)\n",
    "    return auc, ap\n",
    "\n",
    "\n",
    "def train(model, predictor, train_data, optimizer):\n",
    "    model.train()\n",
    "    predictor.train()\n",
    "\n",
    "    z = model(train_data.x, train_data.edge_index)\n",
    "\n",
    "    pos_edge = train_data.pos_edge_label_index\n",
    "    neg_edge = negative_sampling(\n",
    "        edge_index=train_data.edge_index,\n",
    "        num_nodes=train_data.num_nodes,\n",
    "        num_neg_samples=pos_edge.size(1)\n",
    "    )\n",
    "\n",
    "    edge = torch.cat([pos_edge, neg_edge], dim=1)\n",
    "    x_i, x_j = z[edge[0]], z[edge[1]]\n",
    "    labels = torch.cat([\n",
    "        torch.ones(pos_edge.size(1)),\n",
    "        torch.zeros(neg_edge.size(1))\n",
    "    ]).to(device)\n",
    "\n",
    "    pred = predictor(x_i, x_j)\n",
    "    loss = F.binary_cross_entropy(pred, labels)\n",
    "    loss.backward()\n",
    "    optimizer.step()\n",
    "    optimizer.zero_grad()\n",
    "    return loss.item()\n",
    "\n",
    "\n"
   ]
  },
  {
   "cell_type": "code",
   "execution_count": 16,
   "id": "35359073",
   "metadata": {},
   "outputs": [],
   "source": [
    "model = GraphSAGEEncoder(train_data.num_node_features, 64).to(device)\n",
    "predictor = LinkPredictor(64).to(device)\n",
    "optimizer = torch.optim.Adam(\n",
    "    list(model.parameters()) + list(predictor.parameters()),\n",
    "    lr=0.01\n",
    ")\n"
   ]
  },
  {
   "cell_type": "code",
   "execution_count": 17,
   "id": "b3d836ba",
   "metadata": {},
   "outputs": [
    {
     "name": "stdout",
     "output_type": "stream",
     "text": [
      "Epoch: 010, Loss: 0.4481, Val AUC: 0.8135, AP: 0.8577\n",
      "Epoch: 020, Loss: 0.3079, Val AUC: 0.9014, AP: 0.9184\n",
      "Epoch: 030, Loss: 0.2365, Val AUC: 0.9428, AP: 0.9480\n",
      "Epoch: 040, Loss: 0.1782, Val AUC: 0.9481, AP: 0.9531\n",
      "Epoch: 050, Loss: 0.1492, Val AUC: 0.9524, AP: 0.9565\n",
      "Test AUC: 0.9534, Test AP: 0.9589\n"
     ]
    }
   ],
   "source": [
    "for epoch in range(1, 51):\n",
    "    loss = train(model, predictor, train_data.to(device), optimizer)\n",
    "    if epoch % 10 == 0:\n",
    "        val_auc, val_ap = test(model, predictor, val_data.to(device))\n",
    "        print(f'Epoch: {epoch:03d}, Loss: {loss:.4f}, Val AUC: {val_auc:.4f}, AP: {val_ap:.4f}')\n",
    "\n",
    "# Final test evaluation\n",
    "test_auc, test_ap = test(model, predictor, test_data.to(device))\n",
    "print(f'Test AUC: {test_auc:.4f}, Test AP: {test_ap:.4f}')"
   ]
  },
  {
   "cell_type": "code",
   "execution_count": null,
   "id": "b4faf1b2",
   "metadata": {},
   "outputs": [],
   "source": []
  }
 ],
 "metadata": {
  "kernelspec": {
   "display_name": "htgnn",
   "language": "python",
   "name": "python3"
  },
  "language_info": {
   "codemirror_mode": {
    "name": "ipython",
    "version": 3
   },
   "file_extension": ".py",
   "mimetype": "text/x-python",
   "name": "python",
   "nbconvert_exporter": "python",
   "pygments_lexer": "ipython3",
   "version": "3.10.17"
  }
 },
 "nbformat": 4,
 "nbformat_minor": 5
}
